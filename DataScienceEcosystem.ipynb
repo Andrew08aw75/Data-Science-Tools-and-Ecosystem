{
 "cells": [
  {
   "cell_type": "markdown",
   "id": "0fcba241",
   "metadata": {},
   "source": [
    "# Data Science Tools and Ecosystem"
   ]
  },
  {
   "cell_type": "markdown",
   "id": "d315c9b8",
   "metadata": {},
   "source": [
    "In this notebook, Data Science Tools and Ecosystem are summarized."
   ]
  },
  {
   "cell_type": "markdown",
   "id": "6a9caddb",
   "metadata": {},
   "source": [
    "**Objectives**"
   ]
  },
  {
   "cell_type": "markdown",
   "id": "30f3f8bb",
   "metadata": {},
   "source": [
    "- Learn how to insert Markdowns in Jupyter Notebook, including the introduction of titles in different formats.\n",
    "\n",
    "-  Learn the correct way to enumerate or use bullets to organize a list and improve its presentation, as well as to insert tables.\n",
    "\n",
    "- Perform basic arithmetic operations."
   ]
  },
  {
   "cell_type": "markdown",
   "id": "08cf7489",
   "metadata": {},
   "source": [
    "Some of the popular languages that Data Scientists use are:\n",
    "\n",
    "1. Python: Python is widely used in data science due to its versatility, extensive libraries (such as NumPy, Pandas, and \t\tScikit-learn), and strong community support. It provides a wide range of tools for data manipulation, analysis, \t\t\tvisualization, and machine learning.\n",
    "\n",
    "2. R: R is specifically designed for statistical analysis and is commonly used by data scientists for data exploration, \t  \tvisualization, and statistical modeling. It has a vast ecosystem of packages for various data science tasks.\n",
    "\n",
    "3. SQL: SQL (Structured Query Language) is essential for working with relational databases. Data scientists often use SQL to \textract, transform, and analyze data stored in databases.\n",
    "\n",
    "4. Julia: Julia is a relatively new programming language that combines the ease of use of Python with the performance of \t\tlanguages like C++. It is gaining popularity in the data science community for its high-performance computing capabilities.\n",
    "\n",
    "5. Scala: Scala is a programming language that runs on the Java Virtual Machine (JVM) and is commonly used with Apache Spark \tfor big data processing and distributed computing.\n",
    "\n",
    "6. MATLAB: MATLAB is widely used in academia and industry for numerical computing and data analysis. It provides a comprehensive set of tools for data manipulation, visualization, and algorithm development."
   ]
  },
  {
   "cell_type": "markdown",
   "id": "53e5f4ef",
   "metadata": {},
   "source": [
    "Some of the commonly used libraries used by data scientists include:\n",
    "\n",
    "- NumPy: NumPy is a fundamental library for scientific computing in Python. It provides powerful numerical operations and multidimensional array manipulation capabilities.\n",
    "\n",
    "- Pandas: Pandas is a library for data manipulation and analysis. It offers data structures like DataFrames, which allow for efficient data handling and cleaning tasks.\n",
    "\n",
    "- Matplotlib: Matplotlib is a plotting library in Python that provides a wide range of visualization options. It allows data scientists to create various types of charts, plots, and graphs.\n",
    "\n",
    "- scikit-learn: scikit-learn is a popular machine learning library that offers a wide range of algorithms and tools for tasks such as classification, regression, clustering, and model evaluation.\n",
    "\n",
    "- TensorFlow: TensorFlow is an open-source machine learning framework developed by Google. It provides a comprehensive ecosystem for building and deploying machine learning models, particularly for deep learning.\n",
    "\n",
    "- Keras: Keras is a high-level neural networks API that runs on top of TensorFlow. It simplifies the process of building and training deep learning models.\n",
    "\n",
    "- PyTorch: PyTorch is another popular deep learning framework that provides dynamic computational graphs and a more intuitive programming interface compared to TensorFlow.\n",
    "\n",
    "- SciPy: SciPy is a library that provides scientific and technical computing functionalities. It includes modules for optimization, linear algebra, integration, signal and image processing, and more.\n",
    "\n",
    "- StatsModels: StatsModels is a library for statistical modeling and analysis. It offers a wide range of statistical models and tools for regression, time series analysis, hypothesis testing, and more.\n",
    "\n",
    "- Seaborn: Seaborn is a data visualization library that is built on top of Matplotlib. It provides a higher-level interface for creating attractive and informative statistical graphics.\n",
    "\n",
    "These are just a few examples of the many libraries available for data scientists, and the choice of libraries depends on the specific needs and requirements of the data analysis or machine learning project."
   ]
  },
  {
   "cell_type": "markdown",
   "id": "e939ce9f",
   "metadata": {},
   "source": [
    "Here are three popular open-source development environment tools commonly used in data science:"
   ]
  },
  {
   "cell_type": "markdown",
   "id": "8f40f0ed",
   "metadata": {},
   "source": [
    "|Data Science Tools|\n",
    "|----------------|\n",
    "|Jupyter Notebooks|----------|\n",
    "|RStudio|---------|\n",
    "|Apache Zeppelin|------------|\n",
    "\n"
   ]
  },
  {
   "cell_type": "markdown",
   "id": "10e53940",
   "metadata": {},
   "source": [
    "### Below are a few examples of evaluating arithmetic expressions in Python"
   ]
  },
  {
   "cell_type": "markdown",
   "id": "48cb4557",
   "metadata": {},
   "source": [
    "In this code cell evaluate the expression (3*4)+5"
   ]
  },
  {
   "cell_type": "code",
   "execution_count": 5,
   "id": "a016346e",
   "metadata": {},
   "outputs": [
    {
     "data": {
      "text/plain": [
       "17"
      ]
     },
     "execution_count": 5,
     "metadata": {},
     "output_type": "execute_result"
    }
   ],
   "source": [
    "(3*4)+5 # The operation in this expression involves multiplying the integers 3 and 4 together,\n",
    "        # and then adding the result to the integer 5. This is achieved by using the multiplication operator (*) \n",
    "        # to perform the multiplication operation, and then using the addition operator (+) to add the result. "
   ]
  },
  {
   "cell_type": "markdown",
   "id": "8981d4c2",
   "metadata": {},
   "source": [
    "In this code cell write an expression that converts 200 minutes into hours"
   ]
  },
  {
   "cell_type": "code",
   "execution_count": 8,
   "id": "91a303ac",
   "metadata": {},
   "outputs": [
    {
     "data": {
      "text/plain": [
       "3.3333333333333335"
      ]
     },
     "execution_count": 8,
     "metadata": {},
     "output_type": "execute_result"
    }
   ],
   "source": [
    "200/60  # This will convert 200 minutes to hours by diving by 60"
   ]
  },
  {
   "cell_type": "markdown",
   "id": "990b3dbb",
   "metadata": {},
   "source": [
    "## Author"
   ]
  },
  {
   "cell_type": "markdown",
   "id": "0da48c5d",
   "metadata": {},
   "source": [
    "Andres Oliva"
   ]
  }
 ],
 "metadata": {
  "kernelspec": {
   "display_name": "Python 3 (ipykernel)",
   "language": "python",
   "name": "python3"
  },
  "language_info": {
   "codemirror_mode": {
    "name": "ipython",
    "version": 3
   },
   "file_extension": ".py",
   "mimetype": "text/x-python",
   "name": "python",
   "nbconvert_exporter": "python",
   "pygments_lexer": "ipython3",
   "version": "3.9.13"
  }
 },
 "nbformat": 4,
 "nbformat_minor": 5
}
